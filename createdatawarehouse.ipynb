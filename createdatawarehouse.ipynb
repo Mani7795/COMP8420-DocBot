{
 "cells": [
  {
   "cell_type": "code",
   "execution_count": null,
   "id": "45e98730-a47e-4d91-858a-317c13fd8769",
   "metadata": {},
   "outputs": [],
   "source": [
    "import os\n",
    "import pandas as pd\n",
    "\n",
    "data = pd.read_csv(\"C:/Users/anand/Downloads/cosmetics.csv\")\n",
    "\n",
    "base_path = \"synthetic_data_warehouse\"\n",
    "\n",
    "# Create the base directory if it doesn't exist\n",
    "if not os.path.exists(base_path):\n",
    "    os.makedirs(base_path)\n",
    "for _, row in data.iterrows():\n",
    "    label_folder = os.path.join(base_path, row[\"Label\"])\n",
    "    brand_folder = os.path.join(label_folder, row[\"Brand\"])\n",
    "    \n",
    "    # Create directories if they don't exist\n",
    "    os.makedirs(brand_folder, exist_ok=True)\n",
    "    \n",
    "    # Clean the file name to avoid issues with special characters\n",
    "    file_name = (\n",
    "        row[\"Name\"]\n",
    "        .replace(\" \", \"_\")\n",
    "        .replace(\"™\", \"\")\n",
    "        .replace(\"+\", \"\")\n",
    "        .replace(\"'\", \"\")\n",
    "        .replace(\"/\", \"_\")\n",
    "        .replace(\"\\\\\", \"_\")\n",
    "        .replace(\"CC\", \"CC_\")\n",
    "        .replace(\":\", \"\")\n",
    "        .replace(\"*\", \"\")\n",
    "        .replace(\"?\", \"\")\n",
    "        .replace(\"\\\"\", \"\")\n",
    "        .replace(\"<\", \"\")\n",
    "        .replace(\">\", \"\")\n",
    "        .replace(\"|\", \"\")\n",
    "    ) + \".pdf\"\n",
    "    \n",
    "    file_path = os.path.join(brand_folder, file_name)\n",
    "    \n",
    "    # Write a dummy PDF file\n",
    "    with open(file_path, \"w\", encoding=\"utf-8\") as f:\n",
    "        f.write(f\"Dummy content for {row['Name']}\")\n",
    "\n",
    "print(\"Synthetic data warehouse created successfully.\")"
   ]
  }
 ],
 "metadata": {
  "kernelspec": {
   "display_name": "Python 3 (ipykernel)",
   "language": "python",
   "name": "python3"
  },
  "language_info": {
   "codemirror_mode": {
    "name": "ipython",
    "version": 3
   },
   "file_extension": ".py",
   "mimetype": "text/x-python",
   "name": "python",
   "nbconvert_exporter": "python",
   "pygments_lexer": "ipython3",
   "version": "3.11.7"
  }
 },
 "nbformat": 4,
 "nbformat_minor": 5
}
